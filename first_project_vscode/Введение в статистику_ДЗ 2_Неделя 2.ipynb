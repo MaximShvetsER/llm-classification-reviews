{
  "nbformat": 4,
  "nbformat_minor": 0,
  "metadata": {
    "colab": {
      "provenance": [],
      "collapsed_sections": [
        "O53HqaxeVz8z",
        "6R6u2c5FV19Z"
      ]
    },
    "kernelspec": {
      "name": "python3",
      "display_name": "Python 3"
    },
    "language_info": {
      "name": "python"
    }
  },
  "cells": [
    {
      "cell_type": "markdown",
      "source": [
        "# Импорт библиотек"
      ],
      "metadata": {
        "id": "eEmTtjoFxlBB"
      }
    },
    {
      "cell_type": "code",
      "source": [
        "import numpy as np"
      ],
      "metadata": {
        "id": "mkteCpFfxaog"
      },
      "execution_count": null,
      "outputs": []
    },
    {
      "cell_type": "markdown",
      "source": [
        "## 1. Марафон"
      ],
      "metadata": {
        "id": "P-ER2YiOcmNY"
      }
    },
    {
      "cell_type": "markdown",
      "source": [
        "Дан датасет с результатами 20 участников марафона. В зачёт идут данные только о тех бегунах, кто финишировал раньше 180 минут и при этом не был дисквалифицирован."
      ],
      "metadata": {
        "id": "u7mMulmHskjc"
      }
    },
    {
      "cell_type": "code",
      "source": [
        "# Результаты в минутах (0 - значит участник не финишировал/дисквалифицирован)\n",
        "finish_times = np.array([175, 0, 182, 195, 0, 169, 201, 0, 179, 190, 0, 165, 0, 172, 198, 187, 0, 177, 193, 170])"
      ],
      "metadata": {
        "id": "5Wn8bBaPcrkl"
      },
      "execution_count": null,
      "outputs": []
    },
    {
      "cell_type": "markdown",
      "source": [
        "### 1А (0,2 балла). Создай булеву маску `valid_runners`."
      ],
      "metadata": {
        "id": "6PO-wXYGNOSR"
      }
    },
    {
      "cell_type": "markdown",
      "source": [
        "Создай булеву маску `valid_runners`, которая идентифицирует участников, чьё время больше 0 И меньше 180."
      ],
      "metadata": {
        "id": "ca88SjV6NWCo"
      }
    },
    {
      "cell_type": "markdown",
      "source": [
        "**Решение**"
      ],
      "metadata": {
        "id": "qGkD9UjMQHb6"
      }
    },
    {
      "cell_type": "code",
      "source": [
        "# Решение для 1А"
      ],
      "metadata": {
        "id": "2kuaVwR1NZDt"
      },
      "execution_count": null,
      "outputs": []
    },
    {
      "cell_type": "markdown",
      "source": [
        "### 1Б (0,2 балла). Получи массив по булевой маске."
      ],
      "metadata": {
        "id": "FuAqKyVBNnfl"
      }
    },
    {
      "cell_type": "markdown",
      "source": [
        "Отфильтруй участников, прошедших в зачёт. Используй булеву маску из предыдущего пункта. Сохрани данные в переменную `final_results`"
      ],
      "metadata": {
        "id": "5JtTpE67N1mX"
      }
    },
    {
      "cell_type": "markdown",
      "source": [
        "**Решение**"
      ],
      "metadata": {
        "id": "w7rLAylsQI0h"
      }
    },
    {
      "cell_type": "code",
      "source": [
        "# Решение для 1Б"
      ],
      "metadata": {
        "id": "ch_3KcalOFzz"
      },
      "execution_count": null,
      "outputs": []
    },
    {
      "cell_type": "markdown",
      "source": [
        "### 1В (0,3 балла). Проверь условие для всех недисквалифицированных участников."
      ],
      "metadata": {
        "id": "LawPxfrnOyYX"
      }
    },
    {
      "cell_type": "markdown",
      "source": [
        "Проверь, правда ли, что все недисквалифицированные участники (с результатом > 0) финишировали быстрее 200 минут?"
      ],
      "metadata": {
        "id": "OJwfv84EO7G7"
      }
    },
    {
      "cell_type": "markdown",
      "source": [
        "**Решение**"
      ],
      "metadata": {
        "id": "RN4T6SbdQJLF"
      }
    },
    {
      "cell_type": "code",
      "source": [
        "# Решение для 1В"
      ],
      "metadata": {
        "id": "jns5-g47O94y"
      },
      "execution_count": null,
      "outputs": []
    },
    {
      "cell_type": "markdown",
      "source": [
        "### 1Г (0,3 балла). Определи, есть ли участник с заданными характеристиками."
      ],
      "metadata": {
        "id": "toRgkfHrPFn0"
      }
    },
    {
      "cell_type": "markdown",
      "source": [
        "Проверь, был ли хотя бы один участник, который финишировал между 195 и 200 минутами?"
      ],
      "metadata": {
        "id": "fezRQUY8PiTw"
      }
    },
    {
      "cell_type": "markdown",
      "source": [
        "**Решение**"
      ],
      "metadata": {
        "id": "-r_cORj6QJ0v"
      }
    },
    {
      "cell_type": "code",
      "source": [
        "# Решение для 1Г"
      ],
      "metadata": {
        "id": "qBpCNfmEP7vi"
      },
      "execution_count": null,
      "outputs": []
    },
    {
      "cell_type": "markdown",
      "source": [
        "## 2. Метеорология"
      ],
      "metadata": {
        "id": "0dQnTOJ_dCbY"
      }
    },
    {
      "cell_type": "markdown",
      "source": [
        "Дан датасет с данными о температуре в одном регионе за определённый период времени. Температура записана тремя разными метеостанциями."
      ],
      "metadata": {
        "id": "cKf9ioJOtAxb"
      }
    },
    {
      "cell_type": "code",
      "source": [
        "station_north = np.array([15, 16, 14, 17, 16]) # Данные с северной станции\n",
        "station_south = np.array([17, 18, 19, 18, 17]) # Данные с южной станции\n",
        "station_west =  np.array([16, 15, 16, 15, 16]) # Данные с западной станции"
      ],
      "metadata": {
        "id": "3SVEQcGAci1I"
      },
      "execution_count": null,
      "outputs": []
    },
    {
      "cell_type": "markdown",
      "source": [
        "### 2А (0,3 балла). Объедини данные в один длинный вектор `all_data`."
      ],
      "metadata": {
        "id": "aflAOQWOTdDW"
      }
    },
    {
      "cell_type": "markdown",
      "source": [
        "**Решение**"
      ],
      "metadata": {
        "id": "xVQiQmZCTsZt"
      }
    },
    {
      "cell_type": "code",
      "source": [
        "# Решение для 2А"
      ],
      "metadata": {
        "id": "vnC8i6wCTsZt"
      },
      "execution_count": null,
      "outputs": []
    },
    {
      "cell_type": "markdown",
      "source": [
        "### 2Б (0,3 балла). Собери данные в двумерный массив `station_data` (3 станции x 5 измерений)."
      ],
      "metadata": {
        "id": "QO6MH_sGTlqE"
      }
    },
    {
      "cell_type": "markdown",
      "source": [
        "**Решение**"
      ],
      "metadata": {
        "id": "acQBOLm4TuJ8"
      }
    },
    {
      "cell_type": "code",
      "source": [
        "# Решение для 2Б"
      ],
      "metadata": {
        "id": "coJivLy4TuJ9"
      },
      "execution_count": null,
      "outputs": []
    },
    {
      "cell_type": "markdown",
      "source": [
        "### 2В (0,4 балла). Раздели матрицу `station_data` на 5 равных частей."
      ],
      "metadata": {
        "id": "yuVkKJCJToNi"
      }
    },
    {
      "cell_type": "markdown",
      "source": [
        "**Решение**"
      ],
      "metadata": {
        "id": "Z5aOT9w9UFC8"
      }
    },
    {
      "cell_type": "code",
      "source": [
        "# Решение для 2В"
      ],
      "metadata": {
        "id": "usoha-myUFC8"
      },
      "execution_count": null,
      "outputs": []
    },
    {
      "cell_type": "markdown",
      "source": [
        "## 3. Блоггинг"
      ],
      "metadata": {
        "id": "wroUJrfjdixa"
      }
    },
    {
      "cell_type": "markdown",
      "source": [
        "Дана статистика просмотров 10 видеороликов на канале."
      ],
      "metadata": {
        "id": "WkhXJvhjtMZc"
      }
    },
    {
      "cell_type": "code",
      "source": [
        "views = np.array([14500, 9200, 18700, 5300, 25000, 11000, 8700, 19500, 13000, 22000])"
      ],
      "metadata": {
        "id": "Njj6OsF2dgxg"
      },
      "execution_count": null,
      "outputs": []
    },
    {
      "cell_type": "markdown",
      "source": [
        "### 3А (0,3 балла). Отсортируй массив `views` по возрастанию и сохрани результат в `sorted_views`."
      ],
      "metadata": {
        "id": "5Uu1uGASVpM1"
      }
    },
    {
      "cell_type": "markdown",
      "source": [
        "**Решение**"
      ],
      "metadata": {
        "id": "WcHRGWDLV43B"
      }
    },
    {
      "cell_type": "code",
      "source": [
        "# Решение для 3А"
      ],
      "metadata": {
        "id": "rYGtTAMnV43B"
      },
      "execution_count": null,
      "outputs": []
    },
    {
      "cell_type": "markdown",
      "source": [
        "### 3Б (0,5 баллов). Найди индексы самого популярного и самого непопулярного ролика в исходном массиве `views`."
      ],
      "metadata": {
        "id": "O53HqaxeVz8z"
      }
    },
    {
      "cell_type": "markdown",
      "source": [
        "**Решение**"
      ],
      "metadata": {
        "id": "3zi1AtsuV7BC"
      }
    },
    {
      "cell_type": "code",
      "source": [
        "# Решение для 3Б"
      ],
      "metadata": {
        "id": "v5Q_qBvEV7BD"
      },
      "execution_count": null,
      "outputs": []
    },
    {
      "cell_type": "markdown",
      "source": [
        "### 3В (0,2 балла). Используя полученные индексы, выведи значения просмотров для самого популярного и самого непопулярного ролика."
      ],
      "metadata": {
        "id": "6R6u2c5FV19Z"
      }
    },
    {
      "cell_type": "markdown",
      "source": [
        "**Решение**"
      ],
      "metadata": {
        "id": "RRNQ6buYV8kd"
      }
    },
    {
      "cell_type": "code",
      "source": [
        "# Решение для 3В"
      ],
      "metadata": {
        "id": "kOGDMSanV8kd"
      },
      "execution_count": null,
      "outputs": []
    },
    {
      "cell_type": "markdown",
      "source": [
        "## 4. Стартап"
      ],
      "metadata": {
        "id": "XN5pAbu_d8kb"
      }
    },
    {
      "cell_type": "markdown",
      "source": [
        "Дан датасет зарплат в IT-стартапе «Тыквенный латте». Тебе необходимо описать распределение доходов сотрудников."
      ],
      "metadata": {
        "id": "KJ7UdKGAtUM6"
      }
    },
    {
      "cell_type": "code",
      "source": [
        "salaries = np.array([65000, 72000, 85000, 48000, 95000, 110000, 58000, 135000, 42000, 78000, 68000, 89000])"
      ],
      "metadata": {
        "id": "z2-M6T9kd_YK"
      },
      "execution_count": null,
      "outputs": []
    },
    {
      "cell_type": "markdown",
      "source": [
        "### 4А (0,3 балла). Рассчитай первый квартиль, медиану и третий квартиль для массива зарплат."
      ],
      "metadata": {
        "id": "NQTebuXTXAZb"
      }
    },
    {
      "cell_type": "markdown",
      "source": [
        "**Решение**"
      ],
      "metadata": {
        "id": "Eg7a2GfVXPQw"
      }
    },
    {
      "cell_type": "code",
      "source": [
        "# Решение для 4А"
      ],
      "metadata": {
        "id": "x8G9BZNdXPQx"
      },
      "execution_count": null,
      "outputs": []
    },
    {
      "cell_type": "markdown",
      "source": [
        "### 4Б (0,3 балла). Рассчитай межквартильный размах."
      ],
      "metadata": {
        "id": "XxwraUx8XJSV"
      }
    },
    {
      "cell_type": "markdown",
      "source": [
        "**Решение**"
      ],
      "metadata": {
        "id": "jsi7GrIaXPpP"
      }
    },
    {
      "cell_type": "code",
      "source": [
        "# Решение для 4Б"
      ],
      "metadata": {
        "id": "uv_f6txhXPpP"
      },
      "execution_count": null,
      "outputs": []
    },
    {
      "cell_type": "markdown",
      "source": [
        "### 4В (0,4 балла). В какой квартиль ты попадаешь, если твоя зарплата составляет 70.000? А если 90.000? Объясни свой ответ."
      ],
      "metadata": {
        "id": "QzLH_j91XMD_"
      }
    },
    {
      "cell_type": "markdown",
      "source": [
        "**Решение**"
      ],
      "metadata": {
        "id": "XcsfjFpVXQFx"
      }
    },
    {
      "cell_type": "code",
      "source": [
        "# Решение для 4В"
      ],
      "metadata": {
        "id": "rdAMBBzsXQFx"
      },
      "execution_count": null,
      "outputs": []
    },
    {
      "cell_type": "markdown",
      "source": [
        "## 5. Сохранение"
      ],
      "metadata": {
        "id": "GILSQWOGedMK"
      }
    },
    {
      "cell_type": "markdown",
      "source": [
        "Аналитик провёл сложное моделирование, в результате которого получил массив: `temperature_data`."
      ],
      "metadata": {
        "id": "6GBDtJv_tajd"
      }
    },
    {
      "cell_type": "markdown",
      "source": [
        "### 5А (0,2 балла). Создай вектор `temperature_data` с числами от 1 до 16. Поменяй последний элемент вектора на 1."
      ],
      "metadata": {
        "id": "FDIjHsuYYiWL"
      }
    },
    {
      "cell_type": "markdown",
      "source": [
        "**Решение**"
      ],
      "metadata": {
        "id": "dF82id6SZPqu"
      }
    },
    {
      "cell_type": "code",
      "source": [
        "# Решение для 5А"
      ],
      "metadata": {
        "id": "AQItR7tfZPqu"
      },
      "execution_count": null,
      "outputs": []
    },
    {
      "cell_type": "markdown",
      "source": [
        "### 5Б (0,2 балла). Поменяй его форму на (4,4)."
      ],
      "metadata": {
        "id": "_HjQZvDJZDfW"
      }
    },
    {
      "cell_type": "markdown",
      "source": [
        "**Решение**"
      ],
      "metadata": {
        "id": "hklYsIkMZRnz"
      }
    },
    {
      "cell_type": "code",
      "source": [
        "# Решение для 5Б"
      ],
      "metadata": {
        "id": "r4WtjfY4ZRn0"
      },
      "execution_count": null,
      "outputs": []
    },
    {
      "cell_type": "markdown",
      "source": [
        "### 5В (0,2 балла). Сохрани его в файл \"temperature_data.npy\"."
      ],
      "metadata": {
        "id": "N0xJKuILZFuW"
      }
    },
    {
      "cell_type": "markdown",
      "source": [
        "**Решение**"
      ],
      "metadata": {
        "id": "moEulPyzZTYG"
      }
    },
    {
      "cell_type": "code",
      "source": [
        "# Решение для 5В"
      ],
      "metadata": {
        "id": "FU4XxSGMZTYG"
      },
      "execution_count": null,
      "outputs": []
    },
    {
      "cell_type": "markdown",
      "source": [
        "### 5Г (0,2 балла). Загрузи данные из полученного файла в массив `new_arr`."
      ],
      "metadata": {
        "id": "vXetaMVCZINl"
      }
    },
    {
      "cell_type": "markdown",
      "source": [
        "**Решение**"
      ],
      "metadata": {
        "id": "xyHaQmN4ZXEe"
      }
    },
    {
      "cell_type": "code",
      "source": [
        "# Решение для 5Г"
      ],
      "metadata": {
        "id": "ix_5cNImZXEe"
      },
      "execution_count": null,
      "outputs": []
    },
    {
      "cell_type": "markdown",
      "source": [
        "### 5Д (0,2 балла). Сравни два массива — посчитай у них моду, не используя `scipy.stats.mode`."
      ],
      "metadata": {
        "id": "iD-NmmHoZKq-"
      }
    },
    {
      "cell_type": "markdown",
      "source": [
        "**Решение**"
      ],
      "metadata": {
        "id": "2Np6sY4OZY0F"
      }
    },
    {
      "cell_type": "code",
      "source": [
        "# Решение для 5Д"
      ],
      "metadata": {
        "id": "8q77bdYiZY0F"
      },
      "execution_count": null,
      "outputs": []
    }
  ]
}